{
 "cells": [
  {
   "cell_type": "code",
   "execution_count": null,
   "id": "a3b7b101-68b1-4d12-b332-06a97c0d334b",
   "metadata": {},
   "outputs": [],
   "source": [
    "! pip install tqdm"
   ]
  },
  {
   "cell_type": "code",
   "execution_count": 18,
   "id": "1ca074f7-4b33-42af-a33f-75bb58f103a2",
   "metadata": {},
   "outputs": [],
   "source": [
    "import os\n",
    "from tqdm import tqdm\n",
    "from io import BytesIO\n",
    "import boto3\n",
    "import logging\n",
    "import requests"
   ]
  },
  {
   "cell_type": "code",
   "execution_count": 28,
   "id": "8a08bf73-9620-4e68-8715-d36677aef49c",
   "metadata": {},
   "outputs": [],
   "source": [
    "clientS3 = boto3.client('s3',\n",
    "    endpoint_url='http://localhost:9000',\n",
    "    aws_access_key_id='U6dHDkvTv3CdrviA',\n",
    "    aws_secret_access_key='o8LTVjrVtNuzOv7DjGOxhN0HQDeksEej',\n",
    "    aws_session_token=None,\n",
    "    config=boto3.session.Config(signature_version='s3v4'),\n",
    "    verify=False,\n",
    "    region_name='us-east-1'\n",
    ")"
   ]
  },
  {
   "cell_type": "code",
   "execution_count": 8,
   "id": "2e27c27e-dd0b-4f2c-90a8-a60b2e13ccd2",
   "metadata": {},
   "outputs": [],
   "source": [
    "ANO_INICIO_EXTRACAO = 2023\n",
    "ANO_FINAL_EXTRACASO= 2021\n",
    "URL_BASE=\"https://web3.antaq.gov.br/ea/txt/\""
   ]
  },
  {
   "cell_type": "code",
   "execution_count": 30,
   "id": "c1f402bf-955e-4be9-a6a2-2380797ff333",
   "metadata": {},
   "outputs": [],
   "source": [
    "def fazerDownloadArquivo(urlArquivo:str):\n",
    "    nomeArquivo = os.path.basename(urlArquivo).lower()\n",
    "    ano = nomeArquivo[:4]\n",
    "    diretorio = f\"year={ano}/downloaded/{nomeArquivo}\"\n",
    "    \n",
    "    session = requests.Session()\n",
    "    headers = {\n",
    "        \"User-Agent\": \"Mozilla/5.0 (Macintosh; \"\n",
    "                      \"Intel Mac OS X 10_15_7) AppleWebKit/537.36 (KHTML, like Gecko) Chrome/112.0.0.0 Safari/537.36\"}\n",
    "\n",
    "    response = session.get(urlArquivo, headers=headers, verify=False)\n",
    "\n",
    "    logging.info(f\"Arquivo: {nomeArquivo} baixado com sucesso.\")\n",
    "\n",
    "    arquivoCompactado = response.content\n",
    "\n",
    "    clientS3.put_object(\n",
    "        Body=arquivoCompactado, Bucket='antaq-raw',\n",
    "        Key=diretorio)\n",
    "\n",
    "    logging.info(f\"Arquivo salvo em: {diretorio}\")\n"
   ]
  },
  {
   "cell_type": "code",
   "execution_count": 32,
   "id": "2d83e9ec-893b-4818-bffb-73e023f44d60",
   "metadata": {},
   "outputs": [
    {
     "name": "stderr",
     "output_type": "stream",
     "text": [
      "C:\\Users\\Daniel\\Documents\\DevRox\\FIEC_ANTAQ\\venv\\Lib\\site-packages\\urllib3\\connectionpool.py:1056: InsecureRequestWarning: Unverified HTTPS request is being made to host 'web3.antaq.gov.br'. Adding certificate verification is strongly advised. See: https://urllib3.readthedocs.io/en/1.26.x/advanced-usage.html#ssl-warnings\n",
      "  warnings.warn(\n"
     ]
    }
   ],
   "source": [
    "fazerDownloadArquivo(\"https://web3.antaq.gov.br/ea/txt/2023Carga.zip\")"
   ]
  }
 ],
 "metadata": {
  "kernelspec": {
   "display_name": "Python 3 (ipykernel)",
   "language": "python",
   "name": "python3"
  },
  "language_info": {
   "codemirror_mode": {
    "name": "ipython",
    "version": 3
   },
   "file_extension": ".py",
   "mimetype": "text/x-python",
   "name": "python",
   "nbconvert_exporter": "python",
   "pygments_lexer": "ipython3",
   "version": "3.11.5"
  }
 },
 "nbformat": 4,
 "nbformat_minor": 5
}
