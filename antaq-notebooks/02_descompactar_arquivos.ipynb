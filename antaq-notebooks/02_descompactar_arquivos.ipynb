{
 "cells": [
  {
   "cell_type": "code",
   "execution_count": 3,
   "id": "cc1f9ce7-8e85-4093-8994-6b5794868f09",
   "metadata": {},
   "outputs": [],
   "source": [
    "import os\n",
    "import logging\n",
    "from datetime import datetime\n",
    "import pyspark\n",
    "from pyspark.sql import SparkSession\n",
    "from datetime import datetime, date\n",
    "import pandas as pd\n",
    "from pyspark.sql import Row\n",
    "from tqdm import tqdm\n",
    "import boto3\n",
    "import zipfile\n",
    "from io import BytesIO"
   ]
  },
  {
   "cell_type": "code",
   "execution_count": 10,
   "id": "16d073bb-de51-4929-977c-9be2bcfb7b10",
   "metadata": {},
   "outputs": [],
   "source": [
    "AWS_ENDPOINT = \"http://localhost:9000\"\n",
    "AWS_ACCESS_KEY_ID = \"U6dHDkvTv3CdrviA\"\n",
    "AWS_SECRET_ACCESS_KEY = \"o8LTVjrVtNuzOv7DjGOxhN0HQDeksEej\"\n",
    "AWS_REGION =\"us-east-1\"\n",
    "\n",
    "SPARK_APP_NAME= \"fiec-antaq-notebook\"\n",
    "SPARK_MASTER_URL=\"spark://spark-master:7077\""
   ]
  },
  {
   "cell_type": "code",
   "execution_count": 11,
   "id": "1a86d2c6-aa7b-4c3e-871a-26bfb28c538b",
   "metadata": {},
   "outputs": [
    {
     "data": {
      "text/plain": [
       "<botocore.client.S3 at 0x226ebc6d750>"
      ]
     },
     "execution_count": 11,
     "metadata": {},
     "output_type": "execute_result"
    }
   ],
   "source": [
    "s3_client = boto3.client('s3',\n",
    "    endpoint_url=AWS_ENDPOINT,\n",
    "    aws_access_key_id='U6dHDkvTv3CdrviA',\n",
    "    aws_secret_access_key='o8LTVjrVtNuzOv7DjGOxhN0HQDeksEej',\n",
    "    aws_session_token=None,\n",
    "    config=boto3.session.Config(signature_version='s3v4'),\n",
    "    verify=False,\n",
    "    region_name='us-east-1'\n",
    ")\n",
    "s3_client"
   ]
  },
  {
   "cell_type": "code",
   "execution_count": 6,
   "id": "b02473a9-5cfc-4f99-888f-cffe03e27614",
   "metadata": {},
   "outputs": [],
   "source": [
    "def descompactarArquivo(bucket:str,chave:str):\n",
    "    ano, dataset ,etapa, nomeArquivo = chave.split(\"/\")\n",
    "    nomeArquivoTXT = nomeArquivo.replace('.zip','.csv')\n",
    "    chaveArquivoTXT = \"/\".join([ano,dataset,nomeArquivoTXT])\n",
    "\n",
    "    zip_obj = s3_client.get_object(Bucket=bucket, Key=chave).get(\"Body\")\n",
    "    buffer = BytesIO(zip_obj.read())\n",
    "    \n",
    "    z = zipfile.ZipFile(buffer)\n",
    "    for filename in z.namelist():\n",
    "        file_info = z.getinfo(filename)\n",
    "\n",
    "        s3_client.upload_fileobj(\n",
    "            z.open(filename),\n",
    "            BUCKET_STAGE,\n",
    "            chaveArquivoTXT\n",
    "        )\n",
    "        \n",
    "        print(f\"Arquivo {filename} salvo no bucket stage [{BUCKET_STAGE}/{chaveArquivoTXT}].\")"
   ]
  },
  {
   "cell_type": "code",
   "execution_count": 12,
   "id": "ba8cb931-b233-4444-82e6-d65635b32706",
   "metadata": {},
   "outputs": [
    {
     "name": "stdout",
     "output_type": "stream",
     "text": [
      "year=2010/atracacao/processed/2010atracacao.zip\n",
      "year=2010/carga/processed/2010carga.zip\n",
      "year=2011/atracacao/processed/2011atracacao.zip\n",
      "year=2011/carga/processed/2011carga.zip\n",
      "year=2012/atracacao/processed/2012atracacao.zip\n",
      "year=2012/carga/processed/2012carga.zip\n",
      "year=2013/atracacao/processed/2013atracacao.zip\n",
      "year=2013/carga/processed/2013carga.zip\n",
      "year=2014/atracacao/processed/2014atracacao.zip\n",
      "year=2014/carga/processed/2014carga.zip\n",
      "year=2015/atracacao/processed/2015atracacao.zip\n",
      "year=2015/carga/processed/2015carga.zip\n",
      "year=2016/atracacao/processed/2016atracacao.zip\n",
      "year=2016/carga/processed/2016carga.zip\n",
      "year=2017/atracacao/processed/2017atracacao.zip\n",
      "year=2017/carga/processed/2017carga.zip\n",
      "year=2018/atracacao/processed/2018atracacao.zip\n",
      "year=2018/carga/processed/2018carga.zip\n",
      "year=2019/atracacao/processed/2019atracacao.zip\n",
      "year=2019/carga/processed/2019carga.zip\n",
      "year=2020/atracacao/processed/2020atracacao.zip\n",
      "year=2020/carga/processed/2020carga.zip\n",
      "year=2021/atracacao/processed/2021atracacao.zip\n",
      "year=2021/carga/processed/2021carga.zip\n",
      "year=2022/atracacao/processed/2022atracacao.zip\n",
      "year=2022/carga/processed/2022carga.zip\n",
      "year=2023/atracacao/processed/2023atracacao.zip\n",
      "year=2023/carga/processed/2023carga.zip\n"
     ]
    }
   ],
   "source": [
    "BUCKET_RAW = \"antaq-raw\"\n",
    "BUCKET_STAGE = \"antaq-stage\"\n",
    "BUCKET_ANALYTICS = \"antaq-analytics\"\n",
    "\n",
    "objetosS3 = s3_client.list_objects(Bucket=BUCKET_RAW)\n",
    "\n",
    "for obj in objetosS3.get(\"Contents\"):\n",
    "    chave = obj[\"Key\"]\n",
    "    if \"downloaded\" in chave:\n",
    "        descompactarArquivo(BUCKET_RAW,chave)\n",
    "         # Fazer cópia do arquivo para a pasta processado e apagar da pasta de download\n",
    "        novaChave = chave.replace(\"downloaded\", \"processed\")\n",
    "        \n",
    "        s3_client.copy_object(\n",
    "            CopySource={'Bucket': BUCKET_RAW, 'Key': chave},\n",
    "            Bucket=BUCKET_RAW,\n",
    "            Key=novaChave)\n",
    "        \n",
    "        s3_client.delete_object(Bucket=BUCKET_RAW, Key=chave)\n",
    "        \n",
    "        print(f\"Arquivo {chave} movido para a pasta de processados.\")\n",
    "    else:\n",
    "        print(chave)"
   ]
  }
 ],
 "metadata": {
  "kernelspec": {
   "display_name": "Python 3 (ipykernel)",
   "language": "python",
   "name": "python3"
  },
  "language_info": {
   "codemirror_mode": {
    "name": "ipython",
    "version": 3
   },
   "file_extension": ".py",
   "mimetype": "text/x-python",
   "name": "python",
   "nbconvert_exporter": "python",
   "pygments_lexer": "ipython3",
   "version": "3.11.5"
  }
 },
 "nbformat": 4,
 "nbformat_minor": 5
}
