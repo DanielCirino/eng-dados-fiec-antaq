{
 "cells": [
  {
   "cell_type": "code",
   "execution_count": null,
   "id": "66501330-1999-46a9-9d16-a4790af03d45",
   "metadata": {},
   "outputs": [],
   "source": [
    "import os\n",
    "import logging\n",
    "from datetime import datetime\n",
    "import pyspark\n",
    "from pyspark.sql import SparkSession\n",
    "from datetime import datetime, date\n",
    "import pandas as pd\n",
    "from pyspark.sql import Row\n",
    "from tqdm import tqdm\n",
    "import boto3\n",
    "import zipfile\n",
    "from io import BytesIO"
   ]
  },
  {
   "cell_type": "code",
   "execution_count": null,
   "id": "2164784b-92e0-4518-ab96-265b31fdc8f7",
   "metadata": {},
   "outputs": [],
   "source": [
    "AWS_ENDPOINT = \"http://minio-webserver:9000\"\n",
    "AWS_ACCESS_KEY_ID = \"U6dHDkvTv3CdrviA\"\n",
    "AWS_SECRET_ACCESS_KEY = \"o8LTVjrVtNuzOv7DjGOxhN0HQDeksEej\"\n",
    "AWS_REGION =\"us-east-1\"\n",
    "\n",
    "SPARK_APP_NAME= \"fiec-antaq-notebook\"\n",
    "SPARK_MASTER_URL=\"spark://spark-master:7077\""
   ]
  },
  {
   "cell_type": "code",
   "execution_count": null,
   "id": "0afcba5e-5f46-48bb-94eb-6980da7c082a",
   "metadata": {},
   "outputs": [],
   "source": [
    "s3_client = boto3.client('s3',\n",
    "    endpoint_url=AWS_ENDPOINT,\n",
    "    aws_access_key_id='U6dHDkvTv3CdrviA',\n",
    "    aws_secret_access_key='o8LTVjrVtNuzOv7DjGOxhN0HQDeksEej',\n",
    "    aws_session_token=None,\n",
    "    config=boto3.session.Config(signature_version='s3v4'),\n",
    "    verify=False,\n",
    "    region_name='us-east-1'\n",
    ")\n",
    "s3_client"
   ]
  },
  {
   "cell_type": "code",
   "execution_count": null,
   "id": "00a3e0cd-287a-40bc-bb7a-97cc7a121dba",
   "metadata": {},
   "outputs": [],
   "source": [
    "def descompactarArquivo(bucket:str,chave:str):\n",
    "    ano, dataset ,etapa, nomeArquivo = chave.split(\"/\")\n",
    "    nomeArquivoTXT = nomeArquivo.replace('.zip','.csv')\n",
    "    chaveArquivoTXT = \"/\".join([ano,dataset,nomeArquivoTXT])\n",
    "\n",
    "    zip_obj = s3_client.get_object(Bucket=bucket, Key=chave).get(\"Body\")\n",
    "    buffer = BytesIO(zip_obj.read())\n",
    "    \n",
    "    z = zipfile.ZipFile(buffer)\n",
    "    for filename in z.namelist():\n",
    "        file_info = z.getinfo(filename)\n",
    "\n",
    "        s3_client.upload_fileobj(\n",
    "            z.open(filename),\n",
    "            BUCKET_STAGE,\n",
    "            chaveArquivoTXT\n",
    "        )\n",
    "        \n",
    "        print(f\"Arquivo {filename} salvo no bucket stage [{BUCKET_STAGE}/{chaveArquivoTXT}].\")\n",
    "    "
   ]
  },
  {
   "cell_type": "code",
   "execution_count": null,
   "id": "dfb298d6-c9de-4e6e-8b59-f03c1a324d46",
   "metadata": {},
   "outputs": [],
   "source": [
    "BUCKET_RAW = \"antaq-raw\"\n",
    "BUCKET_STAGE = \"antaq-stage\"\n",
    "BUCKET_ANALYTICS = \"antaq-analytics\"\n",
    "\n",
    "objetosS3 = s3_client.list_objects(Bucket=BUCKET_RAW)\n",
    "\n",
    "for obj in objetosS3.get(\"Contents\"):\n",
    "    chave = obj[\"Key\"]\n",
    "    if \"downloaded\" in chave:\n",
    "        descompactarArquivo(BUCKET_RAW,chave)\n",
    "         # Fazer cópia do arquivo para a pasta processado e apagar da pasta de download\n",
    "        novaChave = chave.replace(\"downloaded\", \"processed\")\n",
    "        \n",
    "        s3_client.copy_object(\n",
    "            CopySource={'Bucket': BUCKET_RAW, 'Key': chave},\n",
    "            Bucket=BUCKET_RAW,\n",
    "            Key=novaChave)\n",
    "        \n",
    "        s3_client.delete_object(Bucket=BUCKET_RAW, Key=chave)\n",
    "        \n",
    "        print(f\"Arquivo {chave} movido para a pasta de processados.\")\n",
    "    else:\n",
    "        print(chave)\n",
    "\n"
   ]
  },
  {
   "cell_type": "code",
   "execution_count": null,
   "id": "c15f5b00-2aee-4faf-a82b-500773629ef4",
   "metadata": {},
   "outputs": [],
   "source": [
    "x = \"2010carga.zip\"\n",
    "x[4:-4]"
   ]
  }
 ],
 "metadata": {
  "kernelspec": {
   "display_name": "Python 3 (ipykernel)",
   "language": "python",
   "name": "python3"
  },
  "language_info": {
   "codemirror_mode": {
    "name": "ipython",
    "version": 3
   },
   "file_extension": ".py",
   "mimetype": "text/x-python",
   "name": "python",
   "nbconvert_exporter": "python",
   "pygments_lexer": "ipython3",
   "version": "3.11.5"
  }
 },
 "nbformat": 4,
 "nbformat_minor": 5
}
