{
 "cells": [
  {
   "cell_type": "code",
   "execution_count": null,
   "id": "ca3200a0-71b9-4c70-b87f-261b72023ce4",
   "metadata": {},
   "outputs": [],
   "source": [
    "# ! pip install fsspec s3fs "
   ]
  },
  {
   "cell_type": "code",
   "execution_count": 2,
   "id": "24841add-99ed-4254-b23f-bfdc26676f8e",
   "metadata": {},
   "outputs": [],
   "source": [
    "import os\n",
    "import logging\n",
    "from datetime import datetime\n",
    "import pyspark\n",
    "from pyspark.sql import SparkSession\n",
    "from datetime import datetime, date\n",
    "import pandas as pd\n",
    "from pyspark.sql import Row\n",
    "from tqdm import tqdm\n",
    "import boto3\n",
    "import zipfile\n",
    "from io import BytesIO"
   ]
  },
  {
   "cell_type": "code",
   "execution_count": 3,
   "id": "6a84cb71-4ee9-43d0-ad26-d36e43cc859e",
   "metadata": {},
   "outputs": [],
   "source": [
    "AWS_ENDPOINT = \"http://minio-webserver:9000\"\n",
    "AWS_ACCESS_KEY_ID = \"U6dHDkvTv3CdrviA\"\n",
    "AWS_SECRET_ACCESS_KEY = \"o8LTVjrVtNuzOv7DjGOxhN0HQDeksEej\"\n",
    "AWS_REGION =\"us-east-1\"\n",
    "\n",
    "SPARK_APP_NAME= \"fiec-antaq-notebook\"\n",
    "SPARK_MASTER_URL=\"spark://spark-master:7077\""
   ]
  },
  {
   "cell_type": "code",
   "execution_count": 4,
   "id": "9335e032-f34b-4331-97c7-eb21b438cba7",
   "metadata": {},
   "outputs": [
    {
     "data": {
      "text/plain": [
       "<botocore.client.S3 at 0x7f17c0285e90>"
      ]
     },
     "execution_count": 4,
     "metadata": {},
     "output_type": "execute_result"
    }
   ],
   "source": [
    "s3_client = boto3.client('s3',\n",
    "    endpoint_url=AWS_ENDPOINT,\n",
    "    aws_access_key_id='U6dHDkvTv3CdrviA',\n",
    "    aws_secret_access_key='o8LTVjrVtNuzOv7DjGOxhN0HQDeksEej',\n",
    "    aws_session_token=None,\n",
    "    config=boto3.session.Config(signature_version='s3v4'),\n",
    "    verify=False,\n",
    "    region_name='us-east-1'\n",
    ")\n",
    "s3_client"
   ]
  },
  {
   "cell_type": "code",
   "execution_count": 5,
   "id": "4df132ee-5a50-4e44-a5d1-48ad74a517de",
   "metadata": {},
   "outputs": [],
   "source": [
    "def descompactarArquivo(bucket:str,chave:str):\n",
    "    ano, dataset ,etapa, nomeArquivo = chave.split(\"/\")\n",
    "    nomeArquivoTXT = nomeArquivo.replace('.zip','.csv')\n",
    "    chaveArquivoTXT = \"/\".join([ano,dataset,nomeArquivoTXT])\n",
    "\n",
    "    zip_obj = s3_client.get_object(Bucket=bucket, Key=chave).get(\"Body\")\n",
    "    buffer = BytesIO(zip_obj.read())\n",
    "    \n",
    "    z = zipfile.ZipFile(buffer)\n",
    "    for filename in z.namelist():\n",
    "        file_info = z.getinfo(filename)\n",
    "\n",
    "        s3_client.upload_fileobj(\n",
    "            z.open(filename),\n",
    "            BUCKET_STAGE,\n",
    "            chaveArquivoTXT\n",
    "        )\n",
    "        \n",
    "        print(f\"Arquivo {filename} salvo no bucket stage [{BUCKET_STAGE}/{chaveArquivoTXT}].\")\n",
    "    "
   ]
  },
  {
   "cell_type": "code",
   "execution_count": 6,
   "id": "481b2880-7c3d-4806-b892-cfd2f611a435",
   "metadata": {},
   "outputs": [
    {
     "name": "stdout",
     "output_type": "stream",
     "text": [
      "year=2010/atracacao/processed/2010atracacao.zip\n",
      "year=2010/carga/processed/2010carga.zip\n",
      "year=2011/atracacao/processed/2011atracacao.zip\n",
      "year=2011/carga/processed/2011carga.zip\n",
      "year=2012/atracacao/processed/2012atracacao.zip\n",
      "year=2012/carga/processed/2012carga.zip\n",
      "year=2013/atracacao/processed/2013atracacao.zip\n",
      "year=2013/carga/processed/2013carga.zip\n"
     ]
    },
    {
     "ename": "NameError",
     "evalue": "name 'tipo' is not defined",
     "output_type": "error",
     "traceback": [
      "\u001b[0;31m---------------------------------------------------------------------------\u001b[0m",
      "\u001b[0;31mNameError\u001b[0m                                 Traceback (most recent call last)",
      "Cell \u001b[0;32mIn[6], line 10\u001b[0m\n\u001b[1;32m      8\u001b[0m chave \u001b[38;5;241m=\u001b[39m obj[\u001b[38;5;124m\"\u001b[39m\u001b[38;5;124mKey\u001b[39m\u001b[38;5;124m\"\u001b[39m]\n\u001b[1;32m      9\u001b[0m \u001b[38;5;28;01mif\u001b[39;00m \u001b[38;5;124m\"\u001b[39m\u001b[38;5;124mdownloaded\u001b[39m\u001b[38;5;124m\"\u001b[39m \u001b[38;5;129;01min\u001b[39;00m chave:\n\u001b[0;32m---> 10\u001b[0m     \u001b[43mdescompactarArquivo\u001b[49m\u001b[43m(\u001b[49m\u001b[43mBUCKET_RAW\u001b[49m\u001b[43m,\u001b[49m\u001b[43mchave\u001b[49m\u001b[43m)\u001b[49m\n\u001b[1;32m     11\u001b[0m      \u001b[38;5;66;03m# Fazer cópia do arquivo para a pasta processado e apagar da pasta de download\u001b[39;00m\n\u001b[1;32m     12\u001b[0m     novaChave \u001b[38;5;241m=\u001b[39m chave\u001b[38;5;241m.\u001b[39mreplace(\u001b[38;5;124m\"\u001b[39m\u001b[38;5;124mdownloaded\u001b[39m\u001b[38;5;124m\"\u001b[39m, \u001b[38;5;124m\"\u001b[39m\u001b[38;5;124mprocessed\u001b[39m\u001b[38;5;124m\"\u001b[39m)\n",
      "Cell \u001b[0;32mIn[5], line 4\u001b[0m, in \u001b[0;36mdescompactarArquivo\u001b[0;34m(bucket, chave)\u001b[0m\n\u001b[1;32m      2\u001b[0m ano, dataset ,etapa, nomeArquivo \u001b[38;5;241m=\u001b[39m chave\u001b[38;5;241m.\u001b[39msplit(\u001b[38;5;124m\"\u001b[39m\u001b[38;5;124m/\u001b[39m\u001b[38;5;124m\"\u001b[39m)\n\u001b[1;32m      3\u001b[0m nomeArquivoTXT \u001b[38;5;241m=\u001b[39m nomeArquivo\u001b[38;5;241m.\u001b[39mreplace(\u001b[38;5;124m'\u001b[39m\u001b[38;5;124m.zip\u001b[39m\u001b[38;5;124m'\u001b[39m,\u001b[38;5;124m'\u001b[39m\u001b[38;5;124m.csv\u001b[39m\u001b[38;5;124m'\u001b[39m)\n\u001b[0;32m----> 4\u001b[0m chaveArquivoTXT \u001b[38;5;241m=\u001b[39m \u001b[38;5;124m\"\u001b[39m\u001b[38;5;124m/\u001b[39m\u001b[38;5;124m\"\u001b[39m\u001b[38;5;241m.\u001b[39mjoin([ano,\u001b[43mtipo\u001b[49m,nomeArquivoTXT])\n\u001b[1;32m      6\u001b[0m zip_obj \u001b[38;5;241m=\u001b[39m s3_client\u001b[38;5;241m.\u001b[39mget_object(Bucket\u001b[38;5;241m=\u001b[39mbucket, Key\u001b[38;5;241m=\u001b[39mchave)\u001b[38;5;241m.\u001b[39mget(\u001b[38;5;124m\"\u001b[39m\u001b[38;5;124mBody\u001b[39m\u001b[38;5;124m\"\u001b[39m)\n\u001b[1;32m      7\u001b[0m buffer \u001b[38;5;241m=\u001b[39m BytesIO(zip_obj\u001b[38;5;241m.\u001b[39mread())\n",
      "\u001b[0;31mNameError\u001b[0m: name 'tipo' is not defined"
     ]
    }
   ],
   "source": [
    "BUCKET_RAW = \"antaq-raw\"\n",
    "BUCKET_STAGE = \"antaq-stage\"\n",
    "BUCKET_ANALYTICS = \"antaq-analytics\"\n",
    "\n",
    "objetosS3 = s3_client.list_objects(Bucket=BUCKET_RAW)\n",
    "\n",
    "for obj in objetosS3.get(\"Contents\"):\n",
    "    chave = obj[\"Key\"]\n",
    "    if \"downloaded\" in chave:\n",
    "        descompactarArquivo(BUCKET_RAW,chave)\n",
    "         # Fazer cópia do arquivo para a pasta processado e apagar da pasta de download\n",
    "        novaChave = chave.replace(\"downloaded\", \"processed\")\n",
    "        \n",
    "        s3_client.copy_object(\n",
    "            CopySource={'Bucket': BUCKET_RAW, 'Key': chave},\n",
    "            Bucket=BUCKET_RAW,\n",
    "            Key=novaChave)\n",
    "        \n",
    "        s3_client.delete_object(Bucket=BUCKET_RAW, Key=chave)\n",
    "        \n",
    "        print(f\"Arquivo {nomeArquivo} movido para a pasta de processados.\")\n",
    "    else:\n",
    "        print(chave)\n",
    "\n"
   ]
  },
  {
   "cell_type": "code",
   "execution_count": null,
   "id": "f0c5b46d-eb37-48be-a579-599f1805d816",
   "metadata": {},
   "outputs": [],
   "source": [
    "x = \"2010carga.zip\"\n",
    "x[4:-4]"
   ]
  }
 ],
 "metadata": {
  "kernelspec": {
   "display_name": "Python 3 (ipykernel)",
   "language": "python",
   "name": "python3"
  },
  "language_info": {
   "codemirror_mode": {
    "name": "ipython",
    "version": 3
   },
   "file_extension": ".py",
   "mimetype": "text/x-python",
   "name": "python",
   "nbconvert_exporter": "python",
   "pygments_lexer": "ipython3",
   "version": "3.11.5"
  }
 },
 "nbformat": 4,
 "nbformat_minor": 5
}
